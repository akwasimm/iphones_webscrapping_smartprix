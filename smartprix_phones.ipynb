{
 "cells": [
  {
   "cell_type": "code",
   "execution_count": 1,
   "id": "180bcc10-1be0-4f0b-8b26-1f218cc2e39d",
   "metadata": {},
   "outputs": [],
   "source": [
    "import pandas as pd\n",
    "from bs4 import BeautifulSoup"
   ]
  },
  {
   "cell_type": "code",
   "execution_count": 2,
   "id": "b52d4ae1-3640-4b83-ac46-24cec69f6f9f",
   "metadata": {},
   "outputs": [],
   "source": [
    "with open('phones.html' , 'r' , encoding='utf-8') as f:\n",
    "    data = f.read()"
   ]
  },
  {
   "cell_type": "code",
   "execution_count": 9,
   "id": "8b2f4874-18c3-4036-813a-7b577df5039b",
   "metadata": {},
   "outputs": [],
   "source": [
    "soup = BeautifulSoup(data , 'html.parser')\n"
   ]
  },
  {
   "cell_type": "code",
   "execution_count": 10,
   "id": "2f4da313-dcc4-417b-b95f-3e668323910a",
   "metadata": {},
   "outputs": [],
   "source": [
    "box = soup.find_all('div' , class_ = 'sm-product has-tag has-features has-actions')"
   ]
  },
  {
   "cell_type": "code",
   "execution_count": 11,
   "id": "4bb3640d-d38c-4f2d-a6b3-bbf5b26da00f",
   "metadata": {},
   "outputs": [
    {
     "data": {
      "text/plain": [
       "40"
      ]
     },
     "execution_count": 11,
     "metadata": {},
     "output_type": "execute_result"
    }
   ],
   "source": [
    "len(box)\n"
   ]
  },
  {
   "cell_type": "markdown",
   "id": "d1b1706f-b0f6-487c-8a88-319bbf7fd0ec",
   "metadata": {},
   "source": [
    "### Data extracted \n",
    "\n",
    "\n",
    "1. Name\n",
    "2. specs\n",
    "3. image link\n",
    "4. price\n",
    "5. spec score"
   ]
  },
  {
   "cell_type": "code",
   "execution_count": 12,
   "id": "3ee00bb2-0be5-4e6f-8355-2d61853db6e3",
   "metadata": {},
   "outputs": [],
   "source": [
    "item = box[0]"
   ]
  },
  {
   "cell_type": "code",
   "execution_count": 19,
   "id": "5d461c59-1705-4d10-90db-dada26392a58",
   "metadata": {},
   "outputs": [
    {
     "data": {
      "text/plain": [
       "'₹72,200'"
      ]
     },
     "execution_count": 19,
     "metadata": {},
     "output_type": "execute_result"
    }
   ],
   "source": [
    "item.find('span' , class_ = 'price').text"
   ]
  },
  {
   "cell_type": "code",
   "execution_count": 16,
   "id": "bc7542cb-485f-4d01-9a85-4ddfbe3a491b",
   "metadata": {},
   "outputs": [
    {
     "data": {
      "text/plain": [
       "<h2>Apple iPhone 16</h2>"
      ]
     },
     "execution_count": 16,
     "metadata": {},
     "output_type": "execute_result"
    }
   ],
   "source": [
    "item.find('h2')"
   ]
  },
  {
   "cell_type": "code",
   "execution_count": 8,
   "id": "d74302c4-82fe-4f3c-8637-20c52202a2a4",
   "metadata": {},
   "outputs": [
    {
     "data": {
      "text/plain": [
       "'Dual Sim, 3G, 4G, 5G, VoLTE, Wi-Fi, NFCBionic A18, Hexa Core, 4.04\\u2009GHz Processor8\\u2009GB RAM, 128\\u2009GB inbuilt3561\\u2009mAh Battery with Fast Charging6.1 inches, 1179\\u2009x\\u20092556\\u2009px Display with Dynamic Island Display48\\u2009MP + 12\\u2009MP Dual Rear & 12\\u2009MP Front CameraMemory Card Not SupportediOS v18'"
      ]
     },
     "execution_count": 8,
     "metadata": {},
     "output_type": "execute_result"
    }
   ],
   "source": [
    "item.find('ul' , class_ ='sm-feat specs').text"
   ]
  },
  {
   "cell_type": "code",
   "execution_count": 22,
   "id": "5bf038f8-8ac4-4791-afef-86d23c38a3d5",
   "metadata": {},
   "outputs": [],
   "source": [
    "specs = item.find_all('ul' , class_ =\"sm-feat specs\")"
   ]
  },
  {
   "cell_type": "code",
   "execution_count": 23,
   "id": "674aca42-2dbf-4ea1-84fc-161670b8cc9f",
   "metadata": {},
   "outputs": [
    {
     "name": "stdout",
     "output_type": "stream",
     "text": [
      "Dual Sim, 3G, 4G, 5G, VoLTE, Wi-Fi, NFCBionic A18, Hexa Core, 4.04 GHz Processor8 GB RAM, 128 GB inbuilt3561 mAh Battery with Fast Charging6.1 inches, 1179 x 2556 px Display with Dynamic Island Display48 MP + 12 MP Dual Rear & 12 MP Front CameraMemory Card Not SupportediOS v18\n"
     ]
    }
   ],
   "source": [
    "for i in specs:\n",
    "    print(i.text)"
   ]
  },
  {
   "cell_type": "code",
   "execution_count": 28,
   "id": "469f5b8b-7263-4460-9431-ffa807075dc9",
   "metadata": {},
   "outputs": [],
   "source": [
    "img_tag = item.find('img' , class_ = 'sm-img')"
   ]
  },
  {
   "cell_type": "code",
   "execution_count": 29,
   "id": "968f605c-52a3-4c8f-af3f-1d7942f0cbf9",
   "metadata": {},
   "outputs": [
    {
     "name": "stdout",
     "output_type": "stream",
     "text": [
      "https://cdn1.smartprix.com/rx-i2e85bq8q-w280-h280/apple-iphone-16.webp\n"
     ]
    }
   ],
   "source": [
    "if img_tag:\n",
    "    img_link = img_tag['src']\n",
    "    print(img_link)\n",
    "    "
   ]
  },
  {
   "cell_type": "code",
   "execution_count": 33,
   "id": "711de9dc-0815-4f9b-bcb8-14ed57f78fee",
   "metadata": {},
   "outputs": [
    {
     "data": {
      "text/plain": [
       "'85'"
      ]
     },
     "execution_count": 33,
     "metadata": {},
     "output_type": "execute_result"
    }
   ],
   "source": [
    "item.find('div' , 'score rank-1-bg').text[0:2]"
   ]
  },
  {
   "cell_type": "markdown",
   "id": "150eb9f6-760b-4c6b-869c-d5658ae7fa00",
   "metadata": {},
   "source": [
    "### All Phones Data\n",
    "\n",
    "1. Name\n",
    "2. Price\n",
    "3. specs\n",
    "4. specs score\n",
    "5. image link"
   ]
  },
  {
   "cell_type": "code",
   "execution_count": 37,
   "id": "b7dc08f4-1394-4383-be43-bb5ab2b5f07e",
   "metadata": {},
   "outputs": [],
   "source": [
    "#  Created empty dataframe with the basic columns\n",
    "df = pd.DataFrame(columns = ['Device_Name', 'Price', 'Specs','Specs_score','img'])"
   ]
  },
  {
   "cell_type": "code",
   "execution_count": 36,
   "id": "b4844548-4463-4552-bd40-7e2607f8d6bd",
   "metadata": {},
   "outputs": [
    {
     "data": {
      "text/html": [
       "<div>\n",
       "<style scoped>\n",
       "    .dataframe tbody tr th:only-of-type {\n",
       "        vertical-align: middle;\n",
       "    }\n",
       "\n",
       "    .dataframe tbody tr th {\n",
       "        vertical-align: top;\n",
       "    }\n",
       "\n",
       "    .dataframe thead th {\n",
       "        text-align: right;\n",
       "    }\n",
       "</style>\n",
       "<table border=\"1\" class=\"dataframe\">\n",
       "  <thead>\n",
       "    <tr style=\"text-align: right;\">\n",
       "      <th></th>\n",
       "      <th>Device_Name</th>\n",
       "      <th>Price</th>\n",
       "      <th>Specs</th>\n",
       "      <th>Specs_score</th>\n",
       "      <th>img</th>\n",
       "    </tr>\n",
       "  </thead>\n",
       "  <tbody>\n",
       "  </tbody>\n",
       "</table>\n",
       "</div>"
      ],
      "text/plain": [
       "Empty DataFrame\n",
       "Columns: [Device_Name, Price, Specs, Specs_score, img]\n",
       "Index: []"
      ]
     },
     "execution_count": 36,
     "metadata": {},
     "output_type": "execute_result"
    }
   ],
   "source": [
    "df"
   ]
  },
  {
   "cell_type": "code",
   "execution_count": 52,
   "id": "e4e00e9e-060f-4786-9c82-b8a20e9c0528",
   "metadata": {},
   "outputs": [],
   "source": [
    "# initializing list for storing data\n",
    "items = []"
   ]
  },
  {
   "cell_type": "code",
   "execution_count": 60,
   "id": "e7ba5f20-fb6d-46f0-8a11-1b93a90a6b19",
   "metadata": {},
   "outputs": [],
   "source": [
    "for i in box:\n",
    "    try:\n",
    "        name = i.find('h2')\n",
    "        name = name.text.strip() if name else None\n",
    "\n",
    "        price = i.find('span', class_='price')\n",
    "        price = price.text.strip() if price else None\n",
    "\n",
    "        specs = i.find('ul', class_='sm-feat specs')\n",
    "        specs = specs.text.strip() if specs else None\n",
    "\n",
    "        score = i.find('div', class_='score rank-1-bg')\n",
    "        specs_core = score.text.strip()[0:2] if score else None\n",
    "\n",
    "        img_tag = i.find('img', class_='sm-img')\n",
    "        img_link = img_tag['src'] if img_tag else None\n",
    "\n",
    "        items.append([name, price, specs, specs_core, img_link])\n",
    "\n",
    "    except Exception as e:\n",
    "        continue\n",
    "\n",
    "df = pd.DataFrame(items, columns=['name', 'price', 'specs', 'specs_core', 'img'])\n",
    "    "
   ]
  },
  {
   "cell_type": "code",
   "execution_count": 62,
   "id": "a3bb434f-ab4d-4f22-b025-a47a3007f23c",
   "metadata": {},
   "outputs": [],
   "source": [
    "df.set_index('name', inplace=True)"
   ]
  },
  {
   "cell_type": "code",
   "execution_count": 64,
   "id": "617a76cc-0d5f-481b-a1b2-fae6f1d409ab",
   "metadata": {},
   "outputs": [
    {
     "data": {
      "text/html": [
       "<div>\n",
       "<style scoped>\n",
       "    .dataframe tbody tr th:only-of-type {\n",
       "        vertical-align: middle;\n",
       "    }\n",
       "\n",
       "    .dataframe tbody tr th {\n",
       "        vertical-align: top;\n",
       "    }\n",
       "\n",
       "    .dataframe thead th {\n",
       "        text-align: right;\n",
       "    }\n",
       "</style>\n",
       "<table border=\"1\" class=\"dataframe\">\n",
       "  <thead>\n",
       "    <tr style=\"text-align: right;\">\n",
       "      <th></th>\n",
       "      <th>name</th>\n",
       "      <th>price</th>\n",
       "      <th>specs</th>\n",
       "      <th>specs_core</th>\n",
       "      <th>img</th>\n",
       "    </tr>\n",
       "  </thead>\n",
       "  <tbody>\n",
       "    <tr>\n",
       "      <th>0</th>\n",
       "      <td>Apple iPhone 16</td>\n",
       "      <td>₹72,200</td>\n",
       "      <td>Dual Sim, 3G, 4G, 5G, VoLTE, Wi-Fi, NFCBionic ...</td>\n",
       "      <td>85</td>\n",
       "      <td>https://cdn1.smartprix.com/rx-i2e85bq8q-w280-h...</td>\n",
       "    </tr>\n",
       "    <tr>\n",
       "      <th>1</th>\n",
       "      <td>Apple iPhone 15</td>\n",
       "      <td>₹61,400</td>\n",
       "      <td>Dual Sim, 3G, 4G, 5G, VoLTE, Wi-Fi, NFCBionic ...</td>\n",
       "      <td>81</td>\n",
       "      <td>https://cdn1.smartprix.com/rx-iWLT056zS-w280-h...</td>\n",
       "    </tr>\n",
       "    <tr>\n",
       "      <th>2</th>\n",
       "      <td>Apple iPhone 16 Pro Max</td>\n",
       "      <td>₹1,32,900</td>\n",
       "      <td>Dual Sim, 3G, 4G, 5G, VoLTE, Wi-Fi, NFCBionic ...</td>\n",
       "      <td>89</td>\n",
       "      <td>https://cdn1.smartprix.com/rx-iaI4Vthxt-w280-h...</td>\n",
       "    </tr>\n",
       "    <tr>\n",
       "      <th>3</th>\n",
       "      <td>Apple iPhone 13</td>\n",
       "      <td>₹45,790</td>\n",
       "      <td>Dual Sim, 3G, 4G, 5G, VoLTE, Wi-Fi, NFCBionic ...</td>\n",
       "      <td>None</td>\n",
       "      <td>https://cdn1.smartprix.com/rx-ides4J9tl-w280-h...</td>\n",
       "    </tr>\n",
       "    <tr>\n",
       "      <th>4</th>\n",
       "      <td>Apple iPhone 16e</td>\n",
       "      <td>₹49,999</td>\n",
       "      <td>Dual Sim, 3G, 4G, 5G, VoLTE, Wi-Fi, NFCBionic ...</td>\n",
       "      <td>83</td>\n",
       "      <td>https://cdn1.smartprix.com/rx-iA5rc7mM3-w280-h...</td>\n",
       "    </tr>\n",
       "    <tr>\n",
       "      <th>...</th>\n",
       "      <td>...</td>\n",
       "      <td>...</td>\n",
       "      <td>...</td>\n",
       "      <td>...</td>\n",
       "      <td>...</td>\n",
       "    </tr>\n",
       "    <tr>\n",
       "      <th>275</th>\n",
       "      <td>Apple iPhone 16 Pro (1TB)</td>\n",
       "      <td>₹1,61,900</td>\n",
       "      <td>Dual Sim, 3G, 4G, 5G, VoLTE, Wi-Fi, NFCBionic ...</td>\n",
       "      <td>89</td>\n",
       "      <td>https://cdn1.smartprix.com/rx-i2up0xlk8-w280-h...</td>\n",
       "    </tr>\n",
       "    <tr>\n",
       "      <th>276</th>\n",
       "      <td>Apple iPhone 17 Slim</td>\n",
       "      <td>₹89,990</td>\n",
       "      <td>Dual Sim, 3G, 4G, 5G, VoLTE, Wi-Fi, NFCBionic ...</td>\n",
       "      <td>85</td>\n",
       "      <td>https://cdn1.smartprix.com/rx-ipMo6BYzu-w280-h...</td>\n",
       "    </tr>\n",
       "    <tr>\n",
       "      <th>277</th>\n",
       "      <td>Apple iPhone SE 4</td>\n",
       "      <td>₹49,990</td>\n",
       "      <td>Dual Sim, 3G, 4G, 5G, VoLTE, Wi-Fi, NFCBionic ...</td>\n",
       "      <td>None</td>\n",
       "      <td>https://cdn1.smartprix.com/rx-iSVpmoc10-w280-h...</td>\n",
       "    </tr>\n",
       "    <tr>\n",
       "      <th>278</th>\n",
       "      <td>Apple iPhone 14 Mini</td>\n",
       "      <td>₹69,990</td>\n",
       "      <td>Dual Sim, 3G, 4G, VoLTE, Wi-Fi, NFCBionic A166...</td>\n",
       "      <td>None</td>\n",
       "      <td>https://cdn1.smartprix.com/rx-iWW0cCPP6-w280-h...</td>\n",
       "    </tr>\n",
       "    <tr>\n",
       "      <th>279</th>\n",
       "      <td>Apple iPhone 12 (128GB)</td>\n",
       "      <td>₹49,900</td>\n",
       "      <td>Dual Sim, 3G, 4G, 5G, VoLTE, Wi-Fi, NFCBionic ...</td>\n",
       "      <td>None</td>\n",
       "      <td>https://cdn1.smartprix.com/rx-ijm5SaXcD-w280-h...</td>\n",
       "    </tr>\n",
       "  </tbody>\n",
       "</table>\n",
       "<p>280 rows × 5 columns</p>\n",
       "</div>"
      ],
      "text/plain": [
       "                          name      price  \\\n",
       "0              Apple iPhone 16    ₹72,200   \n",
       "1              Apple iPhone 15    ₹61,400   \n",
       "2      Apple iPhone 16 Pro Max  ₹1,32,900   \n",
       "3              Apple iPhone 13    ₹45,790   \n",
       "4             Apple iPhone 16e    ₹49,999   \n",
       "..                         ...        ...   \n",
       "275  Apple iPhone 16 Pro (1TB)  ₹1,61,900   \n",
       "276       Apple iPhone 17 Slim    ₹89,990   \n",
       "277          Apple iPhone SE 4    ₹49,990   \n",
       "278       Apple iPhone 14 Mini    ₹69,990   \n",
       "279    Apple iPhone 12 (128GB)    ₹49,900   \n",
       "\n",
       "                                                 specs specs_core  \\\n",
       "0    Dual Sim, 3G, 4G, 5G, VoLTE, Wi-Fi, NFCBionic ...         85   \n",
       "1    Dual Sim, 3G, 4G, 5G, VoLTE, Wi-Fi, NFCBionic ...         81   \n",
       "2    Dual Sim, 3G, 4G, 5G, VoLTE, Wi-Fi, NFCBionic ...         89   \n",
       "3    Dual Sim, 3G, 4G, 5G, VoLTE, Wi-Fi, NFCBionic ...       None   \n",
       "4    Dual Sim, 3G, 4G, 5G, VoLTE, Wi-Fi, NFCBionic ...         83   \n",
       "..                                                 ...        ...   \n",
       "275  Dual Sim, 3G, 4G, 5G, VoLTE, Wi-Fi, NFCBionic ...         89   \n",
       "276  Dual Sim, 3G, 4G, 5G, VoLTE, Wi-Fi, NFCBionic ...         85   \n",
       "277  Dual Sim, 3G, 4G, 5G, VoLTE, Wi-Fi, NFCBionic ...       None   \n",
       "278  Dual Sim, 3G, 4G, VoLTE, Wi-Fi, NFCBionic A166...       None   \n",
       "279  Dual Sim, 3G, 4G, 5G, VoLTE, Wi-Fi, NFCBionic ...       None   \n",
       "\n",
       "                                                   img  \n",
       "0    https://cdn1.smartprix.com/rx-i2e85bq8q-w280-h...  \n",
       "1    https://cdn1.smartprix.com/rx-iWLT056zS-w280-h...  \n",
       "2    https://cdn1.smartprix.com/rx-iaI4Vthxt-w280-h...  \n",
       "3    https://cdn1.smartprix.com/rx-ides4J9tl-w280-h...  \n",
       "4    https://cdn1.smartprix.com/rx-iA5rc7mM3-w280-h...  \n",
       "..                                                 ...  \n",
       "275  https://cdn1.smartprix.com/rx-i2up0xlk8-w280-h...  \n",
       "276  https://cdn1.smartprix.com/rx-ipMo6BYzu-w280-h...  \n",
       "277  https://cdn1.smartprix.com/rx-iSVpmoc10-w280-h...  \n",
       "278  https://cdn1.smartprix.com/rx-iWW0cCPP6-w280-h...  \n",
       "279  https://cdn1.smartprix.com/rx-ijm5SaXcD-w280-h...  \n",
       "\n",
       "[280 rows x 5 columns]"
      ]
     },
     "execution_count": 64,
     "metadata": {},
     "output_type": "execute_result"
    }
   ],
   "source": [
    "df.reset_index()"
   ]
  },
  {
   "cell_type": "code",
   "execution_count": null,
   "id": "ece4b94c-c750-427e-b46f-7f75c9d83027",
   "metadata": {},
   "outputs": [],
   "source": []
  }
 ],
 "metadata": {
  "kernelspec": {
   "display_name": "Python 3 (ipykernel)",
   "language": "python",
   "name": "python3"
  },
  "language_info": {
   "codemirror_mode": {
    "name": "ipython",
    "version": 3
   },
   "file_extension": ".py",
   "mimetype": "text/x-python",
   "name": "python",
   "nbconvert_exporter": "python",
   "pygments_lexer": "ipython3",
   "version": "3.13.4"
  }
 },
 "nbformat": 4,
 "nbformat_minor": 5
}
